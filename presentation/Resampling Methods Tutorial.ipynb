{
 "cells": [
  {
   "cell_type": "markdown",
   "metadata": {},
   "source": [
    "## Second Best Practices in Data Analysis and Statistics Symposium (Budapest, 2019)\n",
    "### Resampling: doing classical statistics the easy way\n",
    "#### Ricardo Vieira"
   ]
  },
  {
   "cell_type": "code",
   "execution_count": null,
   "metadata": {},
   "outputs": [],
   "source": []
  },
  {
   "cell_type": "code",
   "execution_count": 1,
   "metadata": {},
   "outputs": [],
   "source": [
    "# Importing external libraries\n",
    "import numpy as np\n",
    "import matplotlib.pyplot as plt"
   ]
  },
  {
   "cell_type": "markdown",
   "metadata": {},
   "source": [
    "## Introduction: Two approaches to a \"simple\" probability problem\n",
    "### 1. The analytic approach"
   ]
  },
  {
   "cell_type": "code",
   "execution_count": 2,
   "metadata": {},
   "outputs": [],
   "source": [
    "def binomial(x,N,px):\n",
    "    n_chose_k = np.math.factorial(N) / (np.math.factorial(x)*np.math.factorial(N-x))\n",
    "    prob = n_chose_k * (px**x) * ((1-px)**(N-x))\n",
    "    return prob"
   ]
  },
  {
   "cell_type": "code",
   "execution_count": 3,
   "metadata": {},
   "outputs": [
    {
     "name": "stdout",
     "output_type": "stream",
     "text": [
      "0.25 0.0625 0.3125\n"
     ]
    }
   ],
   "source": [
    "prob_3 = binomial(x=3,N=4,px=0.5) \n",
    "prob_4 = binomial(x=4, N=4, px=0.5)\n",
    "total_prob = prob_3 + prob_4\n",
    "print(prob_3, prob_4, total_prob)"
   ]
  },
  {
   "cell_type": "markdown",
   "metadata": {},
   "source": [
    "### 2. The simulation approach\n",
    "#### 2.1 Physical simulation"
   ]
  },
  {
   "cell_type": "code",
   "execution_count": 4,
   "metadata": {},
   "outputs": [
    {
     "name": "stderr",
     "output_type": "stream",
     "text": [
      "c:\\program files (x86)\\python36-32\\lib\\site-packages\\ipykernel_launcher.py:2: RuntimeWarning: invalid value encountered in double_scalars\n",
      "  \n"
     ]
    },
    {
     "data": {
      "text/plain": [
       "nan"
      ]
     },
     "execution_count": 4,
     "metadata": {},
     "output_type": "execute_result"
    }
   ],
   "source": [
    "results=[]\n",
    "np.sum(results) / (len(results)*4)"
   ]
  },
  {
   "cell_type": "code",
   "execution_count": 5,
   "metadata": {},
   "outputs": [
    {
     "data": {
      "image/png": "[encoded data removed]",
      "text/plain": [
       "<matplotlib.figure.Figure at 0x66c5830>"
      ]
     },
     "metadata": {},
     "output_type": "display_data"
    }
   ],
   "source": [
    "plt.hist(results, bins=np.arange(0,6), ec='k')\n",
    "plt.axvline(3, c='red', linewidth=4);"
   ]
  },
  {
   "cell_type": "markdown",
   "metadata": {},
   "source": [
    "#### 2.2 Virtual simulation"
   ]
  },
  {
   "cell_type": "code",
   "execution_count": 6,
   "metadata": {},
   "outputs": [
    {
     "name": "stdout",
     "output_type": "stream",
     "text": [
      "[0, 0, 0, 0, 1, 1, 1, 1]\n"
     ]
    }
   ],
   "source": [
    "bag = [0]*4 + [1]*4\n",
    "print(bag)"
   ]
  },
  {
   "cell_type": "code",
   "execution_count": 7,
   "metadata": {},
   "outputs": [
    {
     "data": {
      "text/plain": [
       "array([0, 0, 1, 1])"
      ]
     },
     "execution_count": 7,
     "metadata": {},
     "output_type": "execute_result"
    }
   ],
   "source": [
    "np.random.choice(bag, 4, replace=True)"
   ]
  },
  {
   "cell_type": "code",
   "execution_count": 8,
   "metadata": {},
   "outputs": [],
   "source": [
    "obtained_samples = []\n",
    "matching_samples = 0\n",
    "total_samples = 30\n",
    "\n",
    "for i in range(total_samples):\n",
    "    sample = np.random.choice(bag, 4, replace=True)\n",
    "    \n",
    "    sample_sum = sum(sample)\n",
    "    \n",
    "    obtained_samples.append(sample_sum)\n",
    "    \n",
    "    if sample_sum >= 3: # Fits problem condition\n",
    "        matching_samples += 1"
   ]
  },
  {
   "cell_type": "code",
   "execution_count": 9,
   "metadata": {},
   "outputs": [
    {
     "data": {
      "image/png": "[encoded data removed]",
      "text/plain": [
       "<matplotlib.figure.Figure at 0x6920710>"
      ]
     },
     "metadata": {},
     "output_type": "display_data"
    }
   ],
   "source": [
    "plt.hist(obtained_samples, bins=np.arange(0,6), ec='k')\n",
    "plt.axvline(3, c='red', linewidth=4);"
   ]
  },
  {
   "cell_type": "code",
   "execution_count": 10,
   "metadata": {},
   "outputs": [
    {
     "name": "stdout",
     "output_type": "stream",
     "text": [
      "Calculated probability = 0.2\n"
     ]
    }
   ],
   "source": [
    "print('Calculated probability =', matching_samples/total_samples)"
   ]
  },
  {
   "cell_type": "markdown",
   "metadata": {},
   "source": [
    "## Example 1: Count Data"
   ]
  },
  {
   "cell_type": "code",
   "execution_count": 11,
   "metadata": {},
   "outputs": [],
   "source": [
    "method1 = [16, 4]\n",
    "method2 = [12, 8]"
   ]
  },
  {
   "cell_type": "code",
   "execution_count": 12,
   "metadata": {},
   "outputs": [],
   "source": [
    "# Step 1: Chose a meaningful comparison statistic\n",
    "statistic = 0"
   ]
  },
  {
   "cell_type": "code",
   "execution_count": 44,
   "metadata": {},
   "outputs": [
    {
     "name": "stdout",
     "output_type": "stream",
     "text": [
      "[1, 1, 1, 1, 1, 1, 1, 1, 1, 1, 1, 1, 1, 1, 1, 1, 1, 1, 1, 1, 1, 1, 1, 1, 1, 1, 1, 1, 0, 0, 0, 0, 0, 0, 0, 0, 0, 0, 0, 0]\n"
     ]
    }
   ],
   "source": [
    "# Step 2: Simulate the random process that generated the data\n",
    "bag = [1]*(28) + [0]*(12)\n",
    "print(bag)"
   ]
  },
  {
   "cell_type": "code",
   "execution_count": 52,
   "metadata": {},
   "outputs": [
    {
     "name": "stdout",
     "output_type": "stream",
     "text": [
      "[1 1 1 1 1 0 1 0 0 0 0 1 0 1 1 1 1 0 0 1] [1 0 0 1 1 1 1 1 1 1 1 1 1 1 1 0 1 0 1 0]\n"
     ]
    }
   ],
   "source": [
    "sample1 = np.random.choice(bag, 20, replace=True)\n",
    "sample2 = np.random.choice(bag, 20, replace=True)\n",
    "print(sample1, sample2)"
   ]
  },
  {
   "cell_type": "code",
   "execution_count": 53,
   "metadata": {},
   "outputs": [
    {
     "name": "stdout",
     "output_type": "stream",
     "text": [
      "12 15 -3\n"
     ]
    }
   ],
   "source": [
    "# Step 3: Calculate the test statistic for several simulated samples\n",
    "sample_statistic = sum(sample1) - sum(sample2)\n",
    "print(sum(sample1), sum(sample2), sample_statistic)"
   ]
  },
  {
   "cell_type": "code",
   "execution_count": 17,
   "metadata": {},
   "outputs": [],
   "source": [
    "# Steps 1-3:\n",
    "obtained_samples = []\n",
    "matching_samples = 0\n",
    "total_samples = 30\n",
    "for i in range(total_samples):\n",
    "    sample1 = np.random.choice(bag, 20, replace=True)\n",
    "    sample2 = np.random.choice(bag, 20, replace=True)\n",
    "    \n",
    "    sample_statistic = sum(sample1) - sum(sample2)\n",
    "    \n",
    "    obtained_samples.append(sample_statistic)\n",
    "    \n",
    "    # Step 5: Compute a point estimate such as the pvalue (optional)\n",
    "    if sample_statistic <= -4 or sample_statistic >= 4:\n",
    "        matching_samples += 1"
   ]
  },
  {
   "cell_type": "code",
   "execution_count": 18,
   "metadata": {},
   "outputs": [
    {
     "data": {
      "image/png": "[encoded data removed]",
      "text/plain": [
       "<matplotlib.figure.Figure at 0x69f7770>"
      ]
     },
     "metadata": {},
     "output_type": "display_data"
    }
   ],
   "source": [
    "# Step 4: Analyze the distribution of the sampled test statistics\n",
    "plt.hist(obtained_samples, ec='k', bins=np.linspace(-10,10,21))\n",
    "plt.axvline(-4+1, color='red')\n",
    "plt.axvline(4, color='red');"
   ]
  },
  {
   "cell_type": "code",
   "execution_count": 19,
   "metadata": {},
   "outputs": [
    {
     "name": "stdout",
     "output_type": "stream",
     "text": [
      "Probability of chance =  0.23333333333333334\n"
     ]
    }
   ],
   "source": [
    "# Step 5: Compute a point estimate such as the pvalue (optional)\n",
    "print('Probability of chance = ', matching_samples/total_samples)"
   ]
  },
  {
   "cell_type": "markdown",
   "metadata": {},
   "source": [
    "## Example 2: Ranked Data\n",
    "### 2.1: Proportion of ranks in top half"
   ]
  },
  {
   "cell_type": "code",
   "execution_count": 20,
   "metadata": {},
   "outputs": [],
   "source": [
    "method1 = [2, 3.5, 3.5, 5.5, 5.5, 7, 10.5, 10.5, 10.5, 10.5, 10.5, 15.5, 15.5, 19, 22, 22, 25.5, 29, 39, 40]\n",
    "method2 = [1, 10.5, 15.5, 15.5, 19, 19, 22, 25.5, 25.5, 25.5, 29, 29, 31.5, 31.5, 34, 34, 34, 36.5, 36.5, 38]"
   ]
  },
  {
   "cell_type": "code",
   "execution_count": 21,
   "metadata": {},
   "outputs": [
    {
     "data": {
      "text/plain": [
       "(6, 14)"
      ]
     },
     "execution_count": 21,
     "metadata": {},
     "output_type": "execute_result"
    }
   ],
   "source": [
    "# Step 1: Chose a meaningful comparison statistic\n",
    "np.sum(np.array(method1) >= 20), np.sum(np.array(method2) >= 20)"
   ]
  },
  {
   "cell_type": "code",
   "execution_count": 54,
   "metadata": {},
   "outputs": [
    {
     "data": {
      "text/plain": [
       "array([ 0,  1,  2,  3,  4,  5,  6,  7,  8,  9, 10, 11, 12, 13, 14, 15, 16,\n",
       "       17, 18, 19, 20, 21, 22, 23, 24, 25, 26, 27, 28, 29, 30, 31, 32, 33,\n",
       "       34, 35, 36, 37, 38, 39])"
      ]
     },
     "execution_count": 54,
     "metadata": {},
     "output_type": "execute_result"
    }
   ],
   "source": [
    "# Step 2: Simulate the random process that generated the data\n",
    "ranks = np.arange(40)\n",
    "ranks"
   ]
  },
  {
   "cell_type": "code",
   "execution_count": 55,
   "metadata": {},
   "outputs": [
    {
     "data": {
      "text/plain": [
       "array([ 2,  5,  9, 10, 11, 12, 13, 14, 17, 18, 22, 24, 25, 26, 28, 29, 30,\n",
       "       33, 35, 38])"
      ]
     },
     "execution_count": 55,
     "metadata": {},
     "output_type": "execute_result"
    }
   ],
   "source": [
    "sample = np.random.choice(ranks, 20, replace=False)\n",
    "np.sort(sample)"
   ]
  },
  {
   "cell_type": "code",
   "execution_count": 57,
   "metadata": {},
   "outputs": [
    {
     "data": {
      "text/plain": [
       "10"
      ]
     },
     "execution_count": 57,
     "metadata": {},
     "output_type": "execute_result"
    }
   ],
   "source": [
    "# Step 3: Calculate the test statistic for several simulated samples\n",
    "sample_statistic = np.sum(sample >= 20)\n",
    "sample_statistic"
   ]
  },
  {
   "cell_type": "code",
   "execution_count": 25,
   "metadata": {},
   "outputs": [],
   "source": [
    "# Steps 1-3\n",
    "ranks = np.arange(40)\n",
    "\n",
    "obtained_samples = []\n",
    "matching_samples = 0\n",
    "total_samples = 30\n",
    "\n",
    "for i in range(total_samples):\n",
    "    sample = np.random.choice(ranks, 20, replace=False)\n",
    "    \n",
    "    sample_statistic = np.sum(sample >= 20)\n",
    "    \n",
    "    obtained_samples.append(sample_statistic)\n",
    "    \n",
    "    # Step 5: Compute a point estimate such as the pvalue (optional)\n",
    "    if sample_statistic <= 6 or sample_statistic >= 14: # Two tailed test\n",
    "        matching_samples += 1"
   ]
  },
  {
   "cell_type": "code",
   "execution_count": 26,
   "metadata": {},
   "outputs": [
    {
     "data": {
      "image/png": "[encoded data removed]",
      "text/plain": [
       "<matplotlib.figure.Figure at 0x6f82eb0>"
      ]
     },
     "metadata": {},
     "output_type": "display_data"
    }
   ],
   "source": [
    "# Step 4: Analyze the distribution of the sampled test statistics\n",
    "plt.hist(obtained_samples, ec='k', bins=np.linspace(0,20,21))\n",
    "plt.axvline(7, c='red')\n",
    "plt.axvline(14, c='red');"
   ]
  },
  {
   "cell_type": "code",
   "execution_count": 27,
   "metadata": {},
   "outputs": [
    {
     "name": "stdout",
     "output_type": "stream",
     "text": [
      "Probability of chance: 0.03333333333333333\n"
     ]
    }
   ],
   "source": [
    "# Step 5: Compute a point estimate such as the pvalue (optional)\n",
    "print('Probability of chance:', matching_samples/total_samples)"
   ]
  },
  {
   "cell_type": "markdown",
   "metadata": {},
   "source": [
    "### 2.2: Mean ranks"
   ]
  },
  {
   "cell_type": "code",
   "execution_count": 28,
   "metadata": {},
   "outputs": [],
   "source": [
    "method1_ranks = [2, 3.5, 3.5, 5.5, 5.5, 7, 10.5, 10.5, 10.5, 10.5, 10.5, 15.5, 15.5, 19, 22, 22, 25.5, 29, 39, 40]\n",
    "method2_ranks = [1, 10.5, 15.5, 15.5, 19, 19, 22, 25.5, 25.5, 25.5, 29, 29, 31.5, 31.5, 34, 34, 34, 36.5, 36.5, 38]"
   ]
  },
  {
   "cell_type": "code",
   "execution_count": 29,
   "metadata": {},
   "outputs": [
    {
     "data": {
      "text/plain": [
       "(15.35, 25.65)"
      ]
     },
     "execution_count": 29,
     "metadata": {},
     "output_type": "execute_result"
    }
   ],
   "source": [
    "np.mean(method1_ranks), np.mean(method2_ranks)"
   ]
  },
  {
   "cell_type": "code",
   "execution_count": 30,
   "metadata": {},
   "outputs": [
    {
     "data": {
      "text/plain": [
       "10.299999999999999"
      ]
     },
     "execution_count": 30,
     "metadata": {},
     "output_type": "execute_result"
    }
   ],
   "source": [
    "empirical_statistic = 25.65 - 15.35\n",
    "empirical_statistic"
   ]
  },
  {
   "cell_type": "code",
   "execution_count": 31,
   "metadata": {},
   "outputs": [
    {
     "data": {
      "text/plain": [
       "(20.9, 20.1, -0.7999999999999972)"
      ]
     },
     "execution_count": 31,
     "metadata": {},
     "output_type": "execute_result"
    }
   ],
   "source": [
    "ranks = method1 + method2\n",
    "np.random.shuffle(ranks)\n",
    "sample1 = ranks[:20]\n",
    "sample2 = ranks[20:]\n",
    "np.mean(sample1), np.mean(sample2), np.mean(sample1) - np.mean(sample2)  "
   ]
  },
  {
   "cell_type": "code",
   "execution_count": 32,
   "metadata": {},
   "outputs": [],
   "source": [
    "# All together\n",
    "empirical_statistic = 25.65 - 15.35 \n",
    "\n",
    "ranks = method1 + method2\n",
    "\n",
    "obtained_samples = []\n",
    "matching_samples = 0\n",
    "total_samples = 30\n",
    "\n",
    "for i in range(total_samples):\n",
    "    np.random.shuffle(ranks)\n",
    "    sample1 = ranks[:20]\n",
    "    sample2 = ranks[20:]\n",
    "   \n",
    "    sample_statistic = np.mean(sample1) - np.mean(sample2)\n",
    "    \n",
    "    obtained_samples.append(sample_statistic)\n",
    "    \n",
    "    if abs(sample_statistic) >= empirical_statistic: # Two-sided test\n",
    "        matching_samples += 1"
   ]
  },
  {
   "cell_type": "code",
   "execution_count": 33,
   "metadata": {},
   "outputs": [
    {
     "data": {
      "image/png": "[encoded data removed]",
      "text/plain": [
       "<matplotlib.figure.Figure at 0x7036110>"
      ]
     },
     "metadata": {},
     "output_type": "display_data"
    }
   ],
   "source": [
    "plt.hist(obtained_samples, ec='k', bins=np.linspace(-30,30,61));\n",
    "plt.axvline(-statistic+1, c='red');\n",
    "plt.axvline(statistic, c='red');"
   ]
  },
  {
   "cell_type": "code",
   "execution_count": 34,
   "metadata": {},
   "outputs": [
    {
     "name": "stdout",
     "output_type": "stream",
     "text": [
      "Probability of chance: 0.0\n"
     ]
    }
   ],
   "source": [
    "print('Probability of chance:', matching_samples/total_samples)"
   ]
  },
  {
   "cell_type": "markdown",
   "metadata": {},
   "source": [
    "## Problem 3: Measured Data"
   ]
  },
  {
   "cell_type": "code",
   "execution_count": 35,
   "metadata": {},
   "outputs": [],
   "source": [
    "method1 = [5, 11, 12, 15, 24, 24, 25, 27, 31, 31, 34, 36, 49, 51, 58, 58, 66,  67, 80, 88]\n",
    "method2 = [16, 22, 26, 40, 48, 52, 56, 58, 59, 60, 63, 68, 68, 70, 72, 73, 79, 82, 82, 96]"
   ]
  },
  {
   "cell_type": "code",
   "execution_count": 36,
   "metadata": {},
   "outputs": [
    {
     "name": "stdout",
     "output_type": "stream",
     "text": [
      "Empirical Statistic: 19.9\n"
     ]
    }
   ],
   "source": [
    "empirical_statistic = np.mean(method2) - np.mean(method1)\n",
    "print('Empirical Statistic:', empirical_statistic)\n",
    "\n",
    "bag = method1 + method2\n",
    "\n",
    "obtained_samples = []\n",
    "matching_samples = 0\n",
    "total_samples = 30\n",
    "\n",
    "for i in range(total_samples):\n",
    "    sample1 = np.random.choice(bag, 20, replace=True)\n",
    "    sample2 = np.random.choice(bag, 20, replace=True)\n",
    "    \n",
    "    sample_statistic = np.mean(samlpe1) - np.mean(sample)\n",
    "    \n",
    "    obtained_samples.append(sample_statistic)\n",
    "    \n",
    "    if abs(sample_statistic) >= empirical_statistic: # Two-sided test\n",
    "        matching_samples += 1"
   ]
  },
  {
   "cell_type": "code",
   "execution_count": 37,
   "metadata": {},
   "outputs": [
    {
     "data": {
      "image/png": "[encoded data removed]",
      "text/plain": [
       "<matplotlib.figure.Figure at 0x80ea5b0>"
      ]
     },
     "metadata": {},
     "output_type": "display_data"
    }
   ],
   "source": [
    "plt.hist(obtained_samples, ec='k', bins=np.linspace(-30,30, 61))\n",
    "plt.axvline(-statistic, c='red')\n",
    "plt.axvline(statistic, c='red');"
   ]
  },
  {
   "cell_type": "code",
   "execution_count": 38,
   "metadata": {},
   "outputs": [
    {
     "name": "stdout",
     "output_type": "stream",
     "text": [
      "Probability of chance: 0.0\n"
     ]
    }
   ],
   "source": [
    "print('Probability of chance:', matching_samples/total_samples)"
   ]
  },
  {
   "cell_type": "code",
   "execution_count": 39,
   "metadata": {},
   "outputs": [
    {
     "data": {
      "text/plain": [
       "Ttest_indResult(statistic=-2.807952070400052, pvalue=0.007827679292708214)"
      ]
     },
     "execution_count": 39,
     "metadata": {},
     "output_type": "execute_result"
    }
   ],
   "source": [
    "# Rather similar to the parametric alternative\n",
    "import scipy.stats as st\n",
    "st.ttest_ind(method1, method2)"
   ]
  },
  {
   "cell_type": "markdown",
   "metadata": {},
   "source": [
    "## Suggested problems\n",
    "### 1. Comparison between 3 treatments\n",
    "Three different flashy educational interventions (t1, t2, t3) are conducted on three separate samples of students. The effectiveness of each intervention is measured at the end of the trial using a standard test (value range: 0-3). The means obtained for each group are, respectively, 0.875, 1.33, and 1.683.\n",
    "\n",
    "The researcher wants to know if the effect of intervention could be easily explained by chance, before proceding to study what aspects of the interventions might lead to changes in performance."
   ]
  },
  {
   "cell_type": "code",
   "execution_count": 40,
   "metadata": {},
   "outputs": [],
   "source": [
    "t1 = [0.5, 0.9, 0.8, 0.9, 0.3, 1.2, 0.7, 1.7, 0.4, 0.3, 2. , 0.8]\n",
    "t2 = [2.8, 2. , 1.2, 1. , 1.3, 1.7, 0.8, 1.4, 0.4, 0.9, 1.3, 1.2]\n",
    "t3 = [2.5, 1.6, 1.6, 1.5, 2.3, 2.3, 0.4, 1.3, 2. , 1.9, 1.5, 1.3]"
   ]
  },
  {
   "cell_type": "markdown",
   "metadata": {},
   "source": [
    "### 2. Proportion of scientists who are firstborn siblings\n",
    "In a recent personal project, I was interested in the hypothesis that firstborn siblings tend to be more attracted to highly intelectual professions like science research. I did a small survey in a research center, asking workers there whether they had any siblings, and if so, how did they rank in terms of birth order.\n",
    "\n",
    "The data below shows the total number of participants that had 1,2,3, and 4 siblings (second column), and for each subgroup, how many were firstborns (first column). For instance, the second row shows that of 16 participants who reported having 2 siblings, 7 were firstborns.\n",
    "\n",
    "I am interested in evaluating whether the overall number of first borns was higher than expected by chance (respectively: 50%, 33%, 25%, 20%, for those with 1, 2, 3, or 4 siblings). How could I do this?"
   ]
  },
  {
   "cell_type": "code",
   "execution_count": null,
   "metadata": {},
   "outputs": [],
   "source": []
  },
  {
   "cell_type": "code",
   "execution_count": 41,
   "metadata": {},
   "outputs": [],
   "source": [
    "# 1st column: number of firstborns; 2nd column: total number of respondents\n",
    "one_sibling    = [34, 57]\n",
    "two_siblings   = [7, 16]\n",
    "three_siblings = [3, 6]\n",
    "four_siblings  = [0, 2]"
   ]
  },
  {
   "cell_type": "markdown",
   "metadata": {},
   "source": [
    "### 3. Test performance before and after an intervention\n",
    "\n",
    "A researcher studying the effectiveness of an intervention over cognitive performance, conducted a within-subject design, where each participant was tested once before and ater the intervention. The results are shown below:\n",
    "\n",
    "Each row contains data pertaining to the same participant, with the performance in the pre-test in the first column, and performance in the post-test in the second column.\n",
    "\n",
    "The mean individual change in performance from pre-to-post-test 0.85 (pre-test-performance = 5, post-test-performance = 5.8). Could this difference be due to chance?"
   ]
  },
  {
   "cell_type": "code",
   "execution_count": 42,
   "metadata": {},
   "outputs": [],
   "source": [
    "# Each row corresponds to one participant\n",
    "# 1st column: performance before intervention, 2nd column: performanec after intervention\n",
    "data = [[4.6, 5.8],\n",
    "       [7. , 7.6],\n",
    "       [5.1, 5.7],\n",
    "       [6.5, 7.2],\n",
    "       [3.2, 8. ],\n",
    "       [3.8, 4.2],\n",
    "       [5.9, 5.8],\n",
    "       [4.7, 5. ],\n",
    "       [4.5, 7.1],\n",
    "       [4.5, 5.9],\n",
    "       [3.5, 3.5],\n",
    "       [4.9, 5.9],\n",
    "       [4.5, 6.1],\n",
    "       [7.6, 7.1],\n",
    "       [3.7, 3.9],\n",
    "       [4.7, 5.8],\n",
    "       [6.2, 6. ],\n",
    "       [4.2, 4.9],\n",
    "       [5. , 4.3],\n",
    "       [6. , 6.2]]"
   ]
  },
  {
   "cell_type": "markdown",
   "metadata": {},
   "source": [
    "### 4. Change in proportion of successes  among low-middle-high SES\n",
    "\n",
    "After submitting a study for publication, a researcher receives a request from one of the reviewers to assess the potential modulatory effects of familial socio-economic-status (SES) on the proportion of students who passed the test. \n",
    "\n",
    "Unable to persuade the reviewer otherwise, the researcher compiles the data below. It shows the proportion of students that passed (1st column) and failed (2nd column) for each of the 3 brackets of familial SES."
   ]
  },
  {
   "cell_type": "code",
   "execution_count": 43,
   "metadata": {},
   "outputs": [],
   "source": [
    "# 1st column: number of students who passed the test; 2nd column: number of students who failed the test\n",
    "low_SES = [9,6]\n",
    "mid_SES = [6, 11],\n",
    "high_SES = [11,4]"
   ]
  }
 ],
 "metadata": {
  "kernelspec": {
   "display_name": "Python 3",
   "language": "python",
   "name": "python3"
  },
  "language_info": {
   "codemirror_mode": {
    "name": "ipython",
    "version": 3
   },
   "file_extension": ".py",
   "mimetype": "text/x-python",
   "name": "python",
   "nbconvert_exporter": "python",
   "pygments_lexer": "ipython3",
   "version": "3.6.1"
  }
 },
 "nbformat": 4,
 "nbformat_minor": 2
}
